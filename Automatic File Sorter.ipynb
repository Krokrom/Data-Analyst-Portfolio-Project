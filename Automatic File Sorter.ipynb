{
 "cells": [
  {
   "cell_type": "code",
   "execution_count": 34,
   "id": "05e384b1-f357-4515-9c17-3f88babd8c6e",
   "metadata": {},
   "outputs": [],
   "source": [
    "import os, shutil"
   ]
  },
  {
   "cell_type": "code",
   "execution_count": 36,
   "id": "84402a84-db98-43c4-98e7-c3ae2b2a379b",
   "metadata": {},
   "outputs": [],
   "source": [
    "path = r\"D:/sorter/\""
   ]
  },
  {
   "cell_type": "code",
   "execution_count": 46,
   "id": "10d10629-4744-41e1-b64d-749bace11bc4",
   "metadata": {},
   "outputs": [],
   "source": [
    "file_name = os.listdir(path)"
   ]
  },
  {
   "cell_type": "code",
   "execution_count": 56,
   "id": "660fc17a-5f9b-4a58-b5ab-fc705a9c4765",
   "metadata": {},
   "outputs": [],
   "source": [
    "folder_names = [\"xlsx files\", \"image files\", \"pdf files\"]\n",
    "\n",
    "for loop in range(0,3):\n",
    "   if not os.path.exists(path + folder_names[loop]):\n",
    "       print((path + folder_names[loop]))\n",
    "       os.makedirs((path + folder_names[loop]))\n",
    "\n",
    "for file in file_name:\n",
    "    if \".xlsx\" in file and not os.path.exists(path + \"xlsx files/\" + file):\n",
    "        shutil.move(path + file, path + \"xlsx files/\" + file)\n",
    "    elif \".jpg\" in file and not os.path.exists(path + \"image files/\" + file):\n",
    "        shutil.move(path + file, path + \"image files/\" + file)\n",
    "    elif \".pdf\" in file and not os.path.exists(path + \"pdf files/\" + file):\n",
    "        shutil.move(path + file, path + \"pdf files/\" + file)"
   ]
  },
  {
   "cell_type": "code",
   "execution_count": 54,
   "id": "fcd9e30d-00e5-4059-9180-122ff8447830",
   "metadata": {},
   "outputs": [],
   "source": []
  },
  {
   "cell_type": "code",
   "execution_count": null,
   "id": "87e20964-fbe1-4951-bd91-1385e39174fc",
   "metadata": {},
   "outputs": [],
   "source": []
  },
  {
   "cell_type": "code",
   "execution_count": null,
   "id": "365c2efe-09f7-4544-9403-150d5411c26e",
   "metadata": {},
   "outputs": [],
   "source": []
  },
  {
   "cell_type": "code",
   "execution_count": null,
   "id": "a4825731-b77c-49e8-94d1-150f941845c0",
   "metadata": {},
   "outputs": [],
   "source": []
  },
  {
   "cell_type": "code",
   "execution_count": null,
   "id": "55876385-c870-4038-aeee-57e4bf78c4ed",
   "metadata": {},
   "outputs": [],
   "source": []
  },
  {
   "cell_type": "code",
   "execution_count": null,
   "id": "a7269715-6b3b-403f-93f7-138911c79d79",
   "metadata": {},
   "outputs": [],
   "source": []
  },
  {
   "cell_type": "code",
   "execution_count": null,
   "id": "f799ea5b-d6e5-4aa8-8b18-2f69cb8b66b9",
   "metadata": {},
   "outputs": [],
   "source": []
  },
  {
   "cell_type": "code",
   "execution_count": null,
   "id": "a7ed9cd6-2577-4eb1-a6d9-f8d86fa5c8d5",
   "metadata": {},
   "outputs": [],
   "source": []
  },
  {
   "cell_type": "code",
   "execution_count": null,
   "id": "39fefa17-8f5c-4ddb-90fb-a8e8fb659fbb",
   "metadata": {},
   "outputs": [],
   "source": []
  },
  {
   "cell_type": "code",
   "execution_count": null,
   "id": "f9066383-13f0-47fa-b5e0-34d79c5bc24f",
   "metadata": {},
   "outputs": [],
   "source": []
  },
  {
   "cell_type": "code",
   "execution_count": null,
   "id": "a740fcbb-fae4-49f4-9a73-d3a508c23189",
   "metadata": {},
   "outputs": [],
   "source": []
  }
 ],
 "metadata": {
  "kernelspec": {
   "display_name": "Python 3 (ipykernel)",
   "language": "python",
   "name": "python3"
  },
  "language_info": {
   "codemirror_mode": {
    "name": "ipython",
    "version": 3
   },
   "file_extension": ".py",
   "mimetype": "text/x-python",
   "name": "python",
   "nbconvert_exporter": "python",
   "pygments_lexer": "ipython3",
   "version": "3.12.4"
  }
 },
 "nbformat": 4,
 "nbformat_minor": 5
}
